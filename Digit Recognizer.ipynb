{
 "cells": [
  {
   "cell_type": "markdown",
   "id": "9f5952ad-446a-4041-9d94-1a0ce3068d8a",
   "metadata": {},
   "source": [
    "# Digit Recognizer"
   ]
  },
  {
   "cell_type": "markdown",
   "id": "78217022-9ad2-4157-b9cd-fd2703688268",
   "metadata": {},
   "source": [
    "####"
   ]
  },
  {
   "cell_type": "markdown",
   "id": "6628ea1b-d3b2-4341-8320-e0571dc9e2e7",
   "metadata": {},
   "source": [
    "### Importing the necessary libraries"
   ]
  },
  {
   "cell_type": "code",
   "execution_count": 3,
   "id": "bd6e9296-75e0-44c5-9b80-0b19febe7350",
   "metadata": {},
   "outputs": [],
   "source": [
    "import tensorflow as tf\n",
    "\n",
    "from tensorflow.keras.models import Sequential, load_model\n",
    "from tensorflow.keras.layers import Dense, Flatten, Conv2D, MaxPooling2D, Dropout\n",
    "from tensorflow.keras.preprocessing.image import ImageDataGenerator\n",
    "from sklearn.model_selection import train_test_split\n",
    "import tensorflow.keras as keras\n",
    "\n",
    "import matplotlib.pyplot as plt\n",
    "\n",
    "import numpy as np"
   ]
  },
  {
   "cell_type": "markdown",
   "id": "5cb99e23-7758-41e2-aaec-c73b174883c9",
   "metadata": {},
   "source": [
    "####"
   ]
  },
  {
   "cell_type": "markdown",
   "id": "f1746ad7-66b3-4c71-9b73-6d6e0402c800",
   "metadata": {},
   "source": [
    "### Loading Dataset & Splitting Into Train - Test"
   ]
  },
  {
   "cell_type": "code",
   "execution_count": 5,
   "id": "5c2b2e5c-ac17-4cbf-8f6d-ef8b57f00f8f",
   "metadata": {},
   "outputs": [],
   "source": [
    "(X, y), (X_test, y_test) = keras.datasets.mnist.load_data()"
   ]
  },
  {
   "cell_type": "markdown",
   "id": "7d62ce47-da76-4529-a770-5ac7a05472e0",
   "metadata": {},
   "source": [
    "####"
   ]
  },
  {
   "cell_type": "markdown",
   "id": "2c2ed5c3-b2ed-4a51-bc69-32445073c26a",
   "metadata": {},
   "source": [
    "### Observing Characteristics"
   ]
  },
  {
   "cell_type": "code",
   "execution_count": 25,
   "id": "f631e95b-235b-4c56-88c6-1f3605be9e7a",
   "metadata": {},
   "outputs": [
    {
     "name": "stdout",
     "output_type": "stream",
     "text": [
      "Training: 60000 Images\n",
      "Testing: 10000 Images\n"
     ]
    }
   ],
   "source": [
    "print(\"Training:\", X.shape[0], \"Images\")\n",
    "print(\"Testing:\", X_test.shape[0], \"Images\")"
   ]
  },
  {
   "cell_type": "code",
   "execution_count": 89,
   "id": "842f547a-bbf0-4192-826e-1cb6aa4fff15",
   "metadata": {},
   "outputs": [
    {
     "data": {
      "text/plain": [
       "(28, 28)"
      ]
     },
     "execution_count": 89,
     "metadata": {},
     "output_type": "execute_result"
    }
   ],
   "source": [
    "X[0].shape # The images are 28px / 28px"
   ]
  },
  {
   "cell_type": "code",
   "execution_count": 124,
   "id": "ed96eee2-c301-485f-9d9c-5456b6a49c4e",
   "metadata": {},
   "outputs": [
    {
     "data": {
      "text/plain": [
       "<matplotlib.image.AxesImage at 0x205a86ed150>"
      ]
     },
     "execution_count": 124,
     "metadata": {},
     "output_type": "execute_result"
    },
    {
     "data": {
      "image/png": "[encoded data removed]",
      "text/plain": [
       "<Figure size 480x480 with 1 Axes>"
      ]
     },
     "metadata": {},
     "output_type": "display_data"
    }
   ],
   "source": [
    "plt.matshow(X[1000]) # Plotting a random image"
   ]
  },
  {
   "cell_type": "code",
   "execution_count": 95,
   "id": "ee45bd7e-af86-4f38-8c0d-316cd3eb8290",
   "metadata": {},
   "outputs": [
    {
     "data": {
      "text/plain": [
       "0"
      ]
     },
     "execution_count": 95,
     "metadata": {},
     "output_type": "execute_result"
    }
   ],
   "source": [
    "y[1000] # Digit in the above image"
   ]
  },
  {
   "cell_type": "markdown",
   "id": "1ee03c8d-442d-487d-8999-384690b2e16e",
   "metadata": {},
   "source": [
    "####"
   ]
  },
  {
   "cell_type": "markdown",
   "id": "e012aa34-d539-46f1-a211-5184a2edf03c",
   "metadata": {},
   "source": [
    "### Preprocessing Data"
   ]
  },
  {
   "cell_type": "code",
   "execution_count": 6,
   "id": "e4e8a367-929f-4261-8ccd-864763e60e55",
   "metadata": {},
   "outputs": [],
   "source": [
    "# Normalization - To change the values into a range from 0 -> 1\n",
    "\n",
    "X = X.astype('float32') / 255.0\n",
    "X_test = X_test.astype('float32') / 255.0"
   ]
  },
  {
   "cell_type": "code",
   "execution_count": 7,
   "id": "ef112ca9-642f-42fd-b570-2a8fe08b9ef5",
   "metadata": {},
   "outputs": [
    {
     "data": {
      "text/plain": [
       "(60000, 28, 28, 1)"
      ]
     },
     "execution_count": 7,
     "metadata": {},
     "output_type": "execute_result"
    }
   ],
   "source": [
    "# Flattening\n",
    "\n",
    "X_flat = X.reshape((X.shape[0], 28, 28, 1))\n",
    "X_test_flat = X_test.reshape((X_test.shape[0], 28, 28, 1))\n",
    "\n",
    "X_flat.shape"
   ]
  },
  {
   "cell_type": "code",
   "execution_count": 8,
   "id": "4ee35e3f-ffbf-4346-8995-6a1927804601",
   "metadata": {},
   "outputs": [],
   "source": [
    "# Split data into Training & Validation Datasets\n",
    "\n",
    "X_train, X_val, y_train, y_val = train_test_split(X_flat, y, test_size=0.2, random_state=42)"
   ]
  },
  {
   "cell_type": "markdown",
   "id": "4d8457f0-df72-42a8-8972-2164c9b2a8a9",
   "metadata": {},
   "source": [
    "###"
   ]
  },
  {
   "cell_type": "markdown",
   "id": "d9aa8b29-b9cb-4c72-981c-af36c433c43b",
   "metadata": {},
   "source": [
    "### Augmentation"
   ]
  },
  {
   "cell_type": "code",
   "execution_count": 9,
   "id": "55c0ec6d-a0bc-4bab-80db-39ebe1c505a1",
   "metadata": {},
   "outputs": [],
   "source": [
    "datagen = ImageDataGenerator(\n",
    "    rotation_range=10,\n",
    "    zoom_range=0.1,\n",
    "    width_shift_range=0.1,\n",
    "    height_shift_range=0.1\n",
    ")\n",
    "\n",
    "datagen.fit(X_train)"
   ]
  },
  {
   "cell_type": "markdown",
   "id": "1edd3545-16ef-4044-a33c-16e59f4bfb6d",
   "metadata": {},
   "source": [
    "####"
   ]
  },
  {
   "cell_type": "markdown",
   "id": "78e0e4b5-ac0e-4c7e-9ab4-8d2153921bb6",
   "metadata": {},
   "source": [
    "### Initialising Model"
   ]
  },
  {
   "cell_type": "code",
   "execution_count": 18,
   "id": "e77f467b-3f92-45bf-aa51-0b7dee3a4c61",
   "metadata": {},
   "outputs": [
    {
     "name": "stdout",
     "output_type": "stream",
     "text": [
      "Model: \"sequential_2\"\n",
      "_________________________________________________________________\n",
      " Layer (type)                Output Shape              Param #   \n",
      "=================================================================\n",
      " conv2d_5 (Conv2D)           (None, 26, 26, 32)        320       \n",
      "                                                                 \n",
      " max_pooling2d_5 (MaxPooling  (None, 13, 13, 32)       0         \n",
      " 2D)                                                             \n",
      "                                                                 \n",
      " conv2d_6 (Conv2D)           (None, 11, 11, 64)        18496     \n",
      "                                                                 \n",
      " max_pooling2d_6 (MaxPooling  (None, 5, 5, 64)         0         \n",
      " 2D)                                                             \n",
      "                                                                 \n",
      " flatten_2 (Flatten)         (None, 1600)              0         \n",
      "                                                                 \n",
      " dense_6 (Dense)             (None, 128)               204928    \n",
      "                                                                 \n",
      " dropout_4 (Dropout)         (None, 128)               0         \n",
      "                                                                 \n",
      " dense_7 (Dense)             (None, 64)                8256      \n",
      "                                                                 \n",
      " dropout_5 (Dropout)         (None, 64)                0         \n",
      "                                                                 \n",
      " dense_8 (Dense)             (None, 10)                650       \n",
      "                                                                 \n",
      "=================================================================\n",
      "Total params: 232,650\n",
      "Trainable params: 232,650\n",
      "Non-trainable params: 0\n",
      "_________________________________________________________________\n"
     ]
    }
   ],
   "source": [
    "model = Sequential([\n",
    "    # Output layer with 10 neurons for classification\n",
    "    Conv2D(32, (3, 3), activation='relu', input_shape=(28, 28, 1)),\n",
    "    MaxPooling2D((2, 2)),\n",
    "    \n",
    "    Conv2D(64, (3, 3), activation='relu'),\n",
    "    MaxPooling2D((2, 2)),\n",
    "    \n",
    "    # Flatten layer from convolutional -> dense\n",
    "    Flatten(),\n",
    "    \n",
    "    # Hidden Layers\n",
    "    Dense(128, activation='relu'),\n",
    "    Dropout(0.25),\n",
    "    Dense(64, activation='relu'),\n",
    "    Dropout(0.25),\n",
    "    # Output layer with 10 neurons for classification\n",
    "    Dense(10, activation='softmax')\n",
    "])\n",
    "\n",
    "model.summary()"
   ]
  },
  {
   "cell_type": "markdown",
   "id": "7cddc685-da44-4ab4-b329-14f1cae4c60a",
   "metadata": {},
   "source": [
    "####"
   ]
  },
  {
   "cell_type": "markdown",
   "id": "d9312d9f-83e2-4f7d-b0e4-c484bd407f82",
   "metadata": {},
   "source": [
    "### Compiling Model"
   ]
  },
  {
   "cell_type": "code",
   "execution_count": 19,
   "id": "d15b911d-0765-41a9-9b0c-ceca1f478a77",
   "metadata": {},
   "outputs": [],
   "source": [
    "model.compile(\n",
    "    loss='sparse_categorical_crossentropy',\n",
    "    optimizer='adam',\n",
    "    metrics=['accuracy']\n",
    ")"
   ]
  },
  {
   "cell_type": "markdown",
   "id": "d3cd00ad-561e-4975-9a65-9de6dc449dc9",
   "metadata": {},
   "source": [
    "####"
   ]
  },
  {
   "cell_type": "markdown",
   "id": "dd4f9f6e-fe7e-4c6c-a519-3cf7aed834b5",
   "metadata": {},
   "source": [
    "### Training Model"
   ]
  },
  {
   "cell_type": "code",
   "execution_count": 20,
   "id": "59e4b437-1f73-49e3-9a3b-f99b740a1ef8",
   "metadata": {},
   "outputs": [
    {
     "name": "stdout",
     "output_type": "stream",
     "text": [
      "Epoch 1/5\n",
      "1500/1500 [==============================] - 137s 90ms/step - loss: 0.4263 - accuracy: 0.8642 - val_loss: 0.0689 - val_accuracy: 0.9770\n",
      "Epoch 2/5\n",
      "1500/1500 [==============================] - 134s 89ms/step - loss: 0.1557 - accuracy: 0.9543 - val_loss: 0.0412 - val_accuracy: 0.9882\n",
      "Epoch 3/5\n",
      "1500/1500 [==============================] - 135s 90ms/step - loss: 0.1168 - accuracy: 0.9667 - val_loss: 0.0387 - val_accuracy: 0.9884\n",
      "Epoch 4/5\n",
      "1500/1500 [==============================] - 136s 91ms/step - loss: 0.1000 - accuracy: 0.9711 - val_loss: 0.0322 - val_accuracy: 0.9902\n",
      "Epoch 5/5\n",
      "1500/1500 [==============================] - 133s 89ms/step - loss: 0.0861 - accuracy: 0.9757 - val_loss: 0.0281 - val_accuracy: 0.9923\n"
     ]
    }
   ],
   "source": [
    "history = model.fit(\n",
    "    datagen.flow(X_train, y_train, batch_size=32),\n",
    "    epochs=5,\n",
    "    validation_data=(X_val, y_val)\n",
    ")"
   ]
  },
  {
   "cell_type": "markdown",
   "id": "22fd73e2-7d07-451d-9ba2-adbb19158953",
   "metadata": {},
   "source": [
    "####"
   ]
  },
  {
   "cell_type": "markdown",
   "id": "efaa419d-cd2e-4289-8c7f-42d2b40a4a32",
   "metadata": {},
   "source": [
    "### Testing Model Accuracy"
   ]
  },
  {
   "cell_type": "code",
   "execution_count": 21,
   "id": "4380df25-ceba-4c17-8a2d-2c0753f32740",
   "metadata": {},
   "outputs": [
    {
     "name": "stdout",
     "output_type": "stream",
     "text": [
      "313/313 [==============================] - 11s 32ms/step - loss: 0.0260 - accuracy: 0.9913\n"
     ]
    },
    {
     "data": {
      "text/plain": [
       "[0.026023300364613533, 0.9912999868392944]"
      ]
     },
     "execution_count": 21,
     "metadata": {},
     "output_type": "execute_result"
    }
   ],
   "source": [
    "model.evaluate(X_test_flat, y_test)"
   ]
  },
  {
   "cell_type": "markdown",
   "id": "9be804f1-8a09-40b4-bd88-2ae89cbfa748",
   "metadata": {},
   "source": [
    "### ~ 99% Accuracy on both Train - Test Data"
   ]
  },
  {
   "cell_type": "markdown",
   "id": "f63e3f1e-38fe-443e-9606-c1cb6aa47fd3",
   "metadata": {},
   "source": [
    "### It suggests that the model generalizes well to unseen data and has learned to identify patterns"
   ]
  },
  {
   "cell_type": "markdown",
   "id": "3ba22b8e-713f-49d1-a912-5247a14b853f",
   "metadata": {},
   "source": [
    "###"
   ]
  },
  {
   "cell_type": "markdown",
   "id": "ec54a2a7-5f8c-4855-9ac8-3cb5db5c16c6",
   "metadata": {},
   "source": [
    "### Saving Model"
   ]
  },
  {
   "cell_type": "code",
   "execution_count": 24,
   "id": "27d95827-7b22-4b82-bc0c-d0789800d565",
   "metadata": {},
   "outputs": [
    {
     "name": "stderr",
     "output_type": "stream",
     "text": [
      "WARNING:absl:Found untraced functions such as _jit_compiled_convolution_op, _jit_compiled_convolution_op while saving (showing 2 of 2). These functions will not be directly callable after loading.\n"
     ]
    },
    {
     "name": "stdout",
     "output_type": "stream",
     "text": [
      "INFO:tensorflow:Assets written to: mnist_model\\assets\n"
     ]
    },
    {
     "name": "stderr",
     "output_type": "stream",
     "text": [
      "INFO:tensorflow:Assets written to: mnist_model\\assets\n"
     ]
    }
   ],
   "source": [
    "model.save('mnist_model')"
   ]
  },
  {
   "cell_type": "code",
   "execution_count": 4,
   "id": "50dfaea7-f25e-4a40-b745-f18fe1fbf5f4",
   "metadata": {},
   "outputs": [],
   "source": [
    "loaded_model = load_model('mnist_model')"
   ]
  },
  {
   "cell_type": "markdown",
   "id": "d5af433c-e39e-425a-9125-a0c7b3792a23",
   "metadata": {
    "jp-MarkdownHeadingCollapsed": true
   },
   "source": [
    "###"
   ]
  },
  {
   "cell_type": "markdown",
   "id": "1959056a-9d9f-4da2-a46e-951c0a47aee6",
   "metadata": {},
   "source": [
    "## Comparision"
   ]
  },
  {
   "cell_type": "markdown",
   "id": "8de2824a-f104-4988-9f87-afb8e29b29e7",
   "metadata": {},
   "source": [
    "######"
   ]
  },
  {
   "cell_type": "markdown",
   "id": "f8a017fc-8d0e-4c06-bb5d-63667b0f7c8a",
   "metadata": {},
   "source": [
    "### Training vs Validation Accuracy"
   ]
  },
  {
   "cell_type": "code",
   "execution_count": 41,
   "id": "3c350eb4-a419-4af6-af89-df99eaa4b736",
   "metadata": {},
   "outputs": [
    {
     "data": {
      "text/plain": [
       "<matplotlib.legend.Legend at 0x1cad33df9a0>"
      ]
     },
     "execution_count": 41,
     "metadata": {},
     "output_type": "execute_result"
    },
    {
     "data": {
      "image/png": "[encoded data removed]",
      "text/plain": [
       "<Figure size 1200x500 with 1 Axes>"
      ]
     },
     "metadata": {},
     "output_type": "display_data"
    }
   ],
   "source": [
    "plt.figure(figsize=(12, 5))\n",
    "\n",
    "plt.subplot(1, 2, 1)\n",
    "plt.plot(history.history['accuracy'], label='Train Accuracy')\n",
    "plt.plot(history.history['val_accuracy'], label='Validation Accuracy')\n",
    "plt.title('Model Accuracy')\n",
    "plt.xlabel('Epoch')\n",
    "plt.ylabel('Accuracy (in %)')\n",
    "plt.legend()"
   ]
  },
  {
   "cell_type": "markdown",
   "id": "b31dcb0b-0bf2-4d4c-a485-d2c988970eb1",
   "metadata": {},
   "source": [
    "###"
   ]
  },
  {
   "cell_type": "markdown",
   "id": "b6df7506-f8b4-47f7-96b0-b5110d1878fc",
   "metadata": {},
   "source": [
    "### Training vs Validation Loss"
   ]
  },
  {
   "cell_type": "code",
   "execution_count": 42,
   "id": "0a4f6f96-bf23-424c-a48f-cc677c7f2f0e",
   "metadata": {},
   "outputs": [
    {
     "data": {
      "text/plain": [
       "<matplotlib.legend.Legend at 0x1cab5b2afb0>"
      ]
     },
     "execution_count": 42,
     "metadata": {},
     "output_type": "execute_result"
    },
    {
     "data": {
      "image/png": "[encoded data removed]",
      "text/plain": [
       "<Figure size 640x480 with 1 Axes>"
      ]
     },
     "metadata": {},
     "output_type": "display_data"
    }
   ],
   "source": [
    "plt.plot(history.history['loss'], label='Train Loss')\n",
    "plt.plot(history.history['val_loss'], label='Validation Loss')\n",
    "plt.title('Model Loss')\n",
    "plt.xlabel('Epoch')\n",
    "plt.ylabel('Loss')\n",
    "plt.legend()"
   ]
  },
  {
   "cell_type": "markdown",
   "id": "6a2a78b5-d7a5-4a0c-863e-a48d28d76448",
   "metadata": {},
   "source": [
    "####"
   ]
  },
  {
   "cell_type": "markdown",
   "id": "f40e4118-4da5-43e6-8546-fb09621a7ccc",
   "metadata": {},
   "source": [
    "## Thank You!"
   ]
  }
 ],
 "metadata": {
  "kernelspec": {
   "display_name": "Python 3 (ipykernel)",
   "language": "python",
   "name": "python3"
  },
  "language_info": {
   "codemirror_mode": {
    "name": "ipython",
    "version": 3
   },
   "file_extension": ".py",
   "mimetype": "text/x-python",
   "name": "python",
   "nbconvert_exporter": "python",
   "pygments_lexer": "ipython3",
   "version": "3.10.13"
  }
 },
 "nbformat": 4,
 "nbformat_minor": 5
}
